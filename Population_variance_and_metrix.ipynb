{
 "cells": [
  {
   "cell_type": "markdown",
   "metadata": {},
   "source": [
    "## Bessel’s Correction: Why Use N-1 For Variance/Standard Deviation?\n",
    " * because if you use n-1 instead of n, that is sample data of population, it gives accurate result of variance and Standard Deviation.\n",
    " * n is the no. of sample data.\n",
    " * if you have a sufficiently large sample _and_ if you are actually trying to approximate the population mean.\n",
    " * If you’re just interested in finding the sample mean,\n",
    " * and don’t want to extrapolate your findings to the population, just omit the correction.\n",
    " * When you have an entire population and calculate  the population variance or population standard deviation, results will be accurate. That’s because we have all the data about your population."
   ]
  },
  {
   "cell_type": "markdown",
   "metadata": {},
   "source": [
    "* However, when you work with sample. you’ve only got a small fraction of the population to work with. Therefore, your answers aren’t going to be as accurate as those you would have got, if you had the entire set of data to work with.\n",
    "The formula for the **sample standard deviation** is similar:  \n",
    "![](https://www.statisticshowto.datasciencecentral.com/wp-content/uploads/2013/11/sample-standard-deviation.jpg)\n"
   ]
  },
  {
   "cell_type": "markdown",
   "metadata": {},
   "source": [
    "In the case of the sample variance & standard deviation, the particular statistic you are working with is the sample mean (x̄) instead of the  population mean (μ). Any x-value in your sample is going to be closer to x̄ than to μ."
   ]
  },
  {
   "cell_type": "markdown",
   "metadata": {},
   "source": [
    "The sum of squares for μ  \n",
    "![](https://www.statisticshowto.datasciencecentral.com/wp-content/uploads/2018/07/ss1.png)\n",
    "\n",
    "is going to be larger than the sum of squares for x̄.  \n",
    "![](https://www.statisticshowto.datasciencecentral.com/wp-content/uploads/2018/07/ss0.png)"
   ]
  },
  {
   "cell_type": "markdown",
   "metadata": {},
   "source": [
    "## covariance matrix (S):"
   ]
  },
  {
   "cell_type": "markdown",
   "metadata": {},
   "source": [
    "We can create the covariance matrix from the data matrix in the following way:\n"
   ]
  },
  {
   "cell_type": "markdown",
   "metadata": {},
   "source": [
    "![](https://miro.medium.com/max/875/1*OpjE9s23SmEKlw7lCcF84Q.jpeg)"
   ]
  },
  {
   "cell_type": "markdown",
   "metadata": {},
   "source": [
    "Here, ‘Xc’ is a centered-matrix that has the respective column means subtracted from each element. Using that as the central component, the covariance matrix ‘S’ is the product of the transpose of ‘Xc`’ and ‘Xc’ itself, which is then divided by the number of items or rows (’n’) in the data-matrix."
   ]
  },
  {
   "cell_type": "code",
   "execution_count": null,
   "metadata": {},
   "outputs": [],
   "source": []
  }
 ],
 "metadata": {
  "kernelspec": {
   "display_name": "Python 3",
   "language": "python",
   "name": "python3"
  },
  "language_info": {
   "codemirror_mode": {
    "name": "ipython",
    "version": 3
   },
   "file_extension": ".py",
   "mimetype": "text/x-python",
   "name": "python",
   "nbconvert_exporter": "python",
   "pygments_lexer": "ipython3",
   "version": "3.7.2"
  },
  "toc": {
   "base_numbering": 1,
   "nav_menu": {},
   "number_sections": true,
   "sideBar": true,
   "skip_h1_title": false,
   "title_cell": "Table of Contents",
   "title_sidebar": "Contents",
   "toc_cell": false,
   "toc_position": {},
   "toc_section_display": true,
   "toc_window_display": false
  },
  "varInspector": {
   "cols": {
    "lenName": 16,
    "lenType": 16,
    "lenVar": 40
   },
   "kernels_config": {
    "python": {
     "delete_cmd_postfix": "",
     "delete_cmd_prefix": "del ",
     "library": "var_list.py",
     "varRefreshCmd": "print(var_dic_list())"
    },
    "r": {
     "delete_cmd_postfix": ") ",
     "delete_cmd_prefix": "rm(",
     "library": "var_list.r",
     "varRefreshCmd": "cat(var_dic_list()) "
    }
   },
   "types_to_exclude": [
    "module",
    "function",
    "builtin_function_or_method",
    "instance",
    "_Feature"
   ],
   "window_display": false
  }
 },
 "nbformat": 4,
 "nbformat_minor": 2
}
