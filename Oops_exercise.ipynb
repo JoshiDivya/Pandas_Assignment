{
 "cells": [
  {
   "cell_type": "code",
   "execution_count": 1,
   "metadata": {},
   "outputs": [
    {
     "data": {
      "text/plain": [
       "'12'"
      ]
     },
     "execution_count": 1,
     "metadata": {},
     "output_type": "execute_result"
    }
   ],
   "source": [
    "a='1'\n",
    "b='2'\n",
    "a+b"
   ]
  },
  {
   "cell_type": "code",
   "execution_count": 2,
   "metadata": {},
   "outputs": [
    {
     "name": "stdout",
     "output_type": "stream",
     "text": [
      "1.0\n"
     ]
    }
   ],
   "source": [
    "class stringoperation(str):\n",
    "    @staticmethod\n",
    "    def devide(a,b):\n",
    "        print(len(a)/len(b))\n",
    "    \n",
    "ab= stringoperation() \n",
    "ab.devide('1','2')"
   ]
  },
  {
   "cell_type": "code",
   "execution_count": 3,
   "metadata": {},
   "outputs": [
    {
     "name": "stdout",
     "output_type": "stream",
     "text": [
      "1 1.0\n"
     ]
    }
   ],
   "source": [
    "a=1\n",
    "a_f= 1.0\n",
    "print(a,a_f)"
   ]
  },
  {
   "cell_type": "code",
   "execution_count": 4,
   "metadata": {},
   "outputs": [],
   "source": [
    "import numpy as np"
   ]
  },
  {
   "cell_type": "code",
   "execution_count": 5,
   "metadata": {},
   "outputs": [
    {
     "name": "stdout",
     "output_type": "stream",
     "text": [
      "dividing 10 and 0\n",
      "woops\n"
     ]
    }
   ],
   "source": [
    "def smart_divide(func):\n",
    "    def inner(a,b):\n",
    "        print(f\"dividing {a} and {b}\")\n",
    "        if b==0:\n",
    "            print(\"woops\")\n",
    "            return\n",
    "        return func(a,b)\n",
    "    return inner\n",
    "@smart_divide\n",
    "def divide(a,b):\n",
    "    return a/b\n",
    "divide(10,0)"
   ]
  },
  {
   "cell_type": "code",
   "execution_count": null,
   "metadata": {},
   "outputs": [],
   "source": []
  },
  {
   "cell_type": "code",
   "execution_count": 6,
   "metadata": {},
   "outputs": [
    {
     "name": "stdout",
     "output_type": "stream",
     "text": [
      "i am in make pretty func\n",
      "I am in ordinary\n"
     ]
    }
   ],
   "source": [
    "def make_pretty(func):\n",
    "    def inner():\n",
    "        print(\"i am in make pretty func\")\n",
    "        func()\n",
    "    return inner\n",
    "\n",
    "def ordinary():\n",
    "    print(\"I am in ordinary\")\n",
    "ordinary= make_pretty(ordinary)\n",
    "\n",
    "ordinary()"
   ]
  },
  {
   "cell_type": "code",
   "execution_count": 7,
   "metadata": {},
   "outputs": [
    {
     "data": {
      "text/plain": [
       "[[9, 8], 7, [6, 5], [4, 3], 2, 1]"
      ]
     },
     "execution_count": 7,
     "metadata": {},
     "output_type": "execute_result"
    }
   ],
   "source": [
    "myList=[1,2,[3,4],[5,6],7,[8,9]]\n",
    "result_list=[]\n",
    "def reverse_list(li):\n",
    "    for e in li:\n",
    "        if isinstance(e,list):\n",
    "            e.reverse()\n",
    "        result_list.append(e)\n",
    "    \n",
    "reverse_list(myList)\n",
    "result_list.reverse()\n",
    "result_list"
   ]
  },
  {
   "cell_type": "code",
   "execution_count": 8,
   "metadata": {},
   "outputs": [
    {
     "data": {
      "text/plain": [
       "[[9, 8], 7, [[10, 3], 6, 5], [4, 3], 2, 1]"
      ]
     },
     "execution_count": 8,
     "metadata": {},
     "output_type": "execute_result"
    }
   ],
   "source": [
    "myList=[1,2,[3,4],[5,6,[10,3]],7,[8,9]]\n",
    "result_list=[]\n",
    "def reverse_list(li):\n",
    "    for e in li:\n",
    "        if isinstance(e,list):\n",
    "            e.reverse()\n",
    "        result_list.append(e)\n",
    "    \n",
    "reverse_list(myList)\n",
    "result_list.reverse()\n",
    "result_list"
   ]
  },
  {
   "cell_type": "code",
   "execution_count": 9,
   "metadata": {},
   "outputs": [
    {
     "name": "stdout",
     "output_type": "stream",
     "text": [
      "[[9, 8], 7, [[3, 10], 6, 5], [4, 3], 2, 1]\n"
     ]
    }
   ],
   "source": [
    "def rev(arr):\n",
    "    new_arr=[]\n",
    "    for i in arr:\n",
    "        if isinstance(i,list):\n",
    "            new_arr.append(rev(i))\n",
    "        else:\n",
    "            new_arr.append(i)\n",
    "    new_arr.reverse()\n",
    "    return new_arr\n",
    "myList=[1,2,[3,4],[5,6,[10,3]],7,[8,9]]\n",
    "print(rev(myList))"
   ]
  },
  {
   "cell_type": "code",
   "execution_count": null,
   "metadata": {},
   "outputs": [],
   "source": []
  },
  {
   "cell_type": "code",
   "execution_count": 10,
   "metadata": {},
   "outputs": [
    {
     "data": {
      "text/plain": [
       "person(date_of_birth='09-04-1991', eye_color='Green', IQ_Score='109')"
      ]
     },
     "execution_count": 10,
     "metadata": {},
     "output_type": "execute_result"
    }
   ],
   "source": [
    "from collections import namedtuple\n",
    "from functools import reduce\n",
    "from itertools import chain\n",
    "from operator import add\n",
    "personalDetail= namedtuple('PersonalDetail','date_of_birth')\n",
    "person_1_detail= personalDetail('09-04-1991')\n",
    "\n",
    "person_features= namedtuple('person_eatures','eye_color,IQ_Score')\n",
    "person_1_features= person_features('Green','109')\n",
    "class PersonalJoiner:\n",
    "    @staticmethod\n",
    "    def join(*args):\n",
    "        for arg in args:\n",
    "            person = namedtuple('person', reduce(add, (arg._fields for arg in args)))\n",
    "            return person(*chain(*args))\n",
    "        \n",
    "    \n",
    "PersonalJoiner.join(person_1_detail,person_1_features)\n"
   ]
  },
  {
   "cell_type": "code",
   "execution_count": 11,
   "metadata": {},
   "outputs": [
    {
     "data": {
      "text/plain": [
       "person(date_of_birth='09-04-1991', eye_color='Green', IQ_Score='109')"
      ]
     },
     "execution_count": 11,
     "metadata": {},
     "output_type": "execute_result"
    }
   ],
   "source": [
    "from collections import namedtuple,OrderedDict\n",
    "personalDetail= namedtuple('PersonalDetail','date_of_birth')\n",
    "person_1_detail= personalDetail('09-04-1991')\n",
    "\n",
    "person_features= namedtuple('person_features','eye_color,IQ_Score')\n",
    "person_1_features= person_features('Green','109')\n",
    "\n",
    "class PersonalJoiner:\n",
    "    @staticmethod\n",
    "    def join(*args):\n",
    "        h=OrderedDict()\n",
    "        for arg in args:\n",
    "            dd=arg._asdict()\n",
    "            h.update(dd)\n",
    "        person = namedtuple('person',h.keys())(*h.values())\n",
    "        return person   \n",
    "PersonalJoiner.join(person_1_detail,person_1_features)\n"
   ]
  },
  {
   "cell_type": "code",
   "execution_count": null,
   "metadata": {},
   "outputs": [],
   "source": []
  },
  {
   "cell_type": "code",
   "execution_count": null,
   "metadata": {},
   "outputs": [],
   "source": []
  },
  {
   "cell_type": "code",
   "execution_count": 17,
   "metadata": {},
   "outputs": [
    {
     "name": "stdout",
     "output_type": "stream",
     "text": [
      "00\n",
      "i m in origin\n",
      "[6, 6]\n"
     ]
    }
   ],
   "source": [
    "def double(func):\n",
    "    def inner(x,li):\n",
    "        li.append(x)\n",
    "        func(x,li)\n",
    "    return inner\n",
    "\n",
    "@double\n",
    "def origin_fun(x,y):\n",
    "    y.append(x)\n",
    "    print(\"i m in origin\")\n",
    "    print(y)\n",
    "    \n",
    "origin_fun(6,[])"
   ]
  },
  {
   "cell_type": "code",
   "execution_count": 52,
   "metadata": {},
   "outputs": [
    {
     "name": "stdout",
     "output_type": "stream",
     "text": [
      "3\n"
     ]
    },
    {
     "ename": "AttributeError",
     "evalue": "type object 'Employee' has no attribute 'pay'",
     "output_type": "error",
     "traceback": [
      "\u001b[1;31m---------------------------------------------------------------------------\u001b[0m",
      "\u001b[1;31mAttributeError\u001b[0m                            Traceback (most recent call last)",
      "\u001b[1;32m<ipython-input-52-4fd6f2c659f9>\u001b[0m in \u001b[0;36m<module>\u001b[1;34m\u001b[0m\n\u001b[0;32m     19\u001b[0m \u001b[0me3\u001b[0m\u001b[1;33m=\u001b[0m\u001b[0mEmployee\u001b[0m\u001b[1;33m(\u001b[0m\u001b[1;33m)\u001b[0m\u001b[1;33m\u001b[0m\u001b[1;33m\u001b[0m\u001b[0m\n\u001b[0;32m     20\u001b[0m \u001b[0mprint\u001b[0m\u001b[1;33m(\u001b[0m\u001b[0mEmployee\u001b[0m\u001b[1;33m.\u001b[0m\u001b[0mno_emp\u001b[0m\u001b[1;33m)\u001b[0m\u001b[1;33m\u001b[0m\u001b[1;33m\u001b[0m\u001b[0m\n\u001b[1;32m---> 21\u001b[1;33m \u001b[0mEmployee\u001b[0m\u001b[1;33m.\u001b[0m\u001b[0mraise_pay\u001b[0m\u001b[1;33m(\u001b[0m\u001b[1;36m20\u001b[0m\u001b[1;33m)\u001b[0m\u001b[1;33m\u001b[0m\u001b[1;33m\u001b[0m\u001b[0m\n\u001b[0m\u001b[0;32m     22\u001b[0m \u001b[1;33m\u001b[0m\u001b[0m\n\u001b[0;32m     23\u001b[0m \u001b[1;31m# e1._promote()\u001b[0m\u001b[1;33m\u001b[0m\u001b[1;33m\u001b[0m\u001b[1;33m\u001b[0m\u001b[0m\n",
      "\u001b[1;32m<ipython-input-52-4fd6f2c659f9>\u001b[0m in \u001b[0;36mraise_pay\u001b[1;34m(cls, amt)\u001b[0m\n\u001b[0;32m     10\u001b[0m     \u001b[1;33m@\u001b[0m\u001b[0mclassmethod\u001b[0m\u001b[1;33m\u001b[0m\u001b[1;33m\u001b[0m\u001b[0m\n\u001b[0;32m     11\u001b[0m     \u001b[1;32mdef\u001b[0m \u001b[0mraise_pay\u001b[0m\u001b[1;33m(\u001b[0m\u001b[0mcls\u001b[0m\u001b[1;33m,\u001b[0m\u001b[0mamt\u001b[0m\u001b[1;33m)\u001b[0m\u001b[1;33m:\u001b[0m\u001b[1;33m\u001b[0m\u001b[1;33m\u001b[0m\u001b[0m\n\u001b[1;32m---> 12\u001b[1;33m         \u001b[1;32mreturn\u001b[0m \u001b[0mcls\u001b[0m\u001b[1;33m.\u001b[0m\u001b[0mpay\u001b[0m\u001b[1;33m\u001b[0m\u001b[1;33m\u001b[0m\u001b[0m\n\u001b[0m\u001b[0;32m     13\u001b[0m \u001b[1;33m\u001b[0m\u001b[0m\n\u001b[0;32m     14\u001b[0m \u001b[1;33m\u001b[0m\u001b[0m\n",
      "\u001b[1;31mAttributeError\u001b[0m: type object 'Employee' has no attribute 'pay'"
     ]
    }
   ],
   "source": [
    "class Employee:\n",
    "    no_emp=0\n",
    "    def __init__(self):\n",
    "        self.f_name=None\n",
    "        self.rank=0\n",
    "        self.l_name=None\n",
    "        self.pay=0\n",
    "        Employee.no_emp += 1\n",
    "        \n",
    "    @classmethod\n",
    "    def raise_pay(em,amt):\n",
    "        return \n",
    "    \n",
    "    \n",
    "#         self.email=self.f_name+self+\".\"+l_name+\"@wiki.com\"\n",
    "\n",
    "e1=Employee()\n",
    "e2=Employee()\n",
    "e3=Employee()\n",
    "print(Employee.no_emp)\n",
    "Employee.raise_pay(e1,20)\n",
    "\n",
    "# e1._promote()\n",
    "# e1._raise_salary(300)"
   ]
  },
  {
   "cell_type": "code",
   "execution_count": null,
   "metadata": {},
   "outputs": [],
   "source": []
  },
  {
   "cell_type": "code",
   "execution_count": null,
   "metadata": {},
   "outputs": [],
   "source": []
  },
  {
   "cell_type": "code",
   "execution_count": 15,
   "metadata": {},
   "outputs": [
    {
     "ename": "IndentationError",
     "evalue": "unexpected indent (<ipython-input-15-fbff4978f3b2>, line 2)",
     "output_type": "error",
     "traceback": [
      "\u001b[1;36m  File \u001b[1;32m\"<ipython-input-15-fbff4978f3b2>\"\u001b[1;36m, line \u001b[1;32m2\u001b[0m\n\u001b[1;33m    def is_even(num):\u001b[0m\n\u001b[1;37m    ^\u001b[0m\n\u001b[1;31mIndentationError\u001b[0m\u001b[1;31m:\u001b[0m unexpected indent\n"
     ]
    }
   ],
   "source": [
    " @staticmethod\n",
    "    def is_even(num):\n",
    "        num=int(num)\n",
    "        if num in range(1,7):\n",
    "            if (num%2==0):\n",
    "                return True\n",
    "            else:\n",
    "                return False\n",
    "        else:\n",
    "            print(\"Enter a valid no. between 0 to 1\")\n",
    "            return None\n",
    "    def _promote(self):\n",
    "        self.rank= self.rank+1\n",
    "        return self.rank\n",
    "    def _raise_salary(self,amt):\n",
    "        amt=int(amt)\n",
    "        self.pay= self.pay+amt\n",
    "        return self.pay"
   ]
  },
  {
   "cell_type": "code",
   "execution_count": null,
   "metadata": {},
   "outputs": [],
   "source": [
    "def method(a=2,**kw):\n",
    "    if 'a' in kw:\n",
    "        a=[kw['a']]\n",
    "    return a\n",
    "    \n",
    "        \n",
    "\n",
    "m=['a','b','c','d']\n",
    "n={'1':'aa','a':'bb','3':'cc'}\n",
    "method(*['a'],**n)"
   ]
  },
  {
   "cell_type": "code",
   "execution_count": 68,
   "metadata": {},
   "outputs": [
    {
     "name": "stdout",
     "output_type": "stream",
     "text": [
      "[2, 2, 3, 3, 4, 4]\n"
     ]
    }
   ],
   "source": [
    "def origin_fun(func):\n",
    "    def inner(*args):\n",
    "        li=[]\n",
    "        for a in args:\n",
    "            li.extend([a,a])\n",
    "            \n",
    "        func(li)\n",
    "    return inner\n",
    "\n",
    "@origin_fun\n",
    "def double(li):\n",
    "    print(li)\n",
    "double(2,3,4)"
   ]
  },
  {
   "cell_type": "code",
   "execution_count": null,
   "metadata": {},
   "outputs": [],
   "source": []
  },
  {
   "cell_type": "code",
   "execution_count": null,
   "metadata": {},
   "outputs": [],
   "source": []
  },
  {
   "cell_type": "code",
   "execution_count": null,
   "metadata": {},
   "outputs": [],
   "source": []
  },
  {
   "cell_type": "code",
   "execution_count": null,
   "metadata": {},
   "outputs": [],
   "source": []
  },
  {
   "cell_type": "code",
   "execution_count": null,
   "metadata": {},
   "outputs": [],
   "source": []
  },
  {
   "cell_type": "code",
   "execution_count": null,
   "metadata": {},
   "outputs": [],
   "source": []
  },
  {
   "cell_type": "code",
   "execution_count": null,
   "metadata": {},
   "outputs": [],
   "source": []
  },
  {
   "cell_type": "code",
   "execution_count": null,
   "metadata": {},
   "outputs": [],
   "source": []
  },
  {
   "cell_type": "code",
   "execution_count": null,
   "metadata": {},
   "outputs": [],
   "source": []
  },
  {
   "cell_type": "code",
   "execution_count": null,
   "metadata": {},
   "outputs": [],
   "source": []
  },
  {
   "cell_type": "code",
   "execution_count": null,
   "metadata": {},
   "outputs": [],
   "source": []
  },
  {
   "cell_type": "code",
   "execution_count": null,
   "metadata": {},
   "outputs": [],
   "source": []
  },
  {
   "cell_type": "code",
   "execution_count": null,
   "metadata": {},
   "outputs": [],
   "source": []
  },
  {
   "cell_type": "code",
   "execution_count": null,
   "metadata": {},
   "outputs": [],
   "source": []
  },
  {
   "cell_type": "code",
   "execution_count": 50,
   "metadata": {
    "scrolled": true
   },
   "outputs": [
    {
     "data": {
      "text/plain": [
       "'invalid'"
      ]
     },
     "execution_count": 50,
     "metadata": {},
     "output_type": "execute_result"
    }
   ],
   "source": [
    "def deco_fun(func):\n",
    "    def innerr(**dic):\n",
    "        if dic['role']=='admin':\n",
    "            func(**dic)\n",
    "        else:\n",
    "            return 'invalid'\n",
    "    return innerr\n",
    "\n",
    "@deco_fun\n",
    "def verify(**dic):\n",
    "    print(dic)\n",
    "    \n",
    "verify(role='user',name='divi')"
   ]
  },
  {
   "cell_type": "code",
   "execution_count": null,
   "metadata": {},
   "outputs": [],
   "source": []
  },
  {
   "cell_type": "code",
   "execution_count": null,
   "metadata": {},
   "outputs": [],
   "source": []
  },
  {
   "cell_type": "code",
   "execution_count": null,
   "metadata": {},
   "outputs": [],
   "source": []
  },
  {
   "cell_type": "code",
   "execution_count": null,
   "metadata": {},
   "outputs": [],
   "source": []
  },
  {
   "cell_type": "code",
   "execution_count": null,
   "metadata": {},
   "outputs": [],
   "source": []
  },
  {
   "cell_type": "code",
   "execution_count": null,
   "metadata": {},
   "outputs": [],
   "source": []
  },
  {
   "cell_type": "code",
   "execution_count": null,
   "metadata": {},
   "outputs": [],
   "source": []
  },
  {
   "cell_type": "code",
   "execution_count": null,
   "metadata": {},
   "outputs": [],
   "source": []
  },
  {
   "cell_type": "code",
   "execution_count": null,
   "metadata": {},
   "outputs": [],
   "source": []
  },
  {
   "cell_type": "code",
   "execution_count": null,
   "metadata": {},
   "outputs": [],
   "source": []
  },
  {
   "cell_type": "code",
   "execution_count": null,
   "metadata": {},
   "outputs": [],
   "source": []
  },
  {
   "cell_type": "code",
   "execution_count": null,
   "metadata": {},
   "outputs": [],
   "source": []
  },
  {
   "cell_type": "code",
   "execution_count": null,
   "metadata": {},
   "outputs": [],
   "source": []
  },
  {
   "cell_type": "code",
   "execution_count": null,
   "metadata": {},
   "outputs": [],
   "source": []
  },
  {
   "cell_type": "code",
   "execution_count": null,
   "metadata": {},
   "outputs": [],
   "source": []
  },
  {
   "cell_type": "code",
   "execution_count": null,
   "metadata": {},
   "outputs": [],
   "source": []
  },
  {
   "cell_type": "code",
   "execution_count": null,
   "metadata": {},
   "outputs": [],
   "source": []
  },
  {
   "cell_type": "code",
   "execution_count": null,
   "metadata": {},
   "outputs": [],
   "source": []
  },
  {
   "cell_type": "code",
   "execution_count": null,
   "metadata": {},
   "outputs": [],
   "source": []
  },
  {
   "cell_type": "code",
   "execution_count": null,
   "metadata": {},
   "outputs": [],
   "source": []
  },
  {
   "cell_type": "code",
   "execution_count": null,
   "metadata": {},
   "outputs": [],
   "source": []
  }
 ],
 "metadata": {
  "kernelspec": {
   "display_name": "Python 3",
   "language": "python",
   "name": "python3"
  },
  "language_info": {
   "codemirror_mode": {
    "name": "ipython",
    "version": 3
   },
   "file_extension": ".py",
   "mimetype": "text/x-python",
   "name": "python",
   "nbconvert_exporter": "python",
   "pygments_lexer": "ipython3",
   "version": "3.7.2"
  },
  "toc": {
   "base_numbering": 1,
   "nav_menu": {},
   "number_sections": true,
   "sideBar": true,
   "skip_h1_title": false,
   "title_cell": "Table of Contents",
   "title_sidebar": "Contents",
   "toc_cell": false,
   "toc_position": {},
   "toc_section_display": true,
   "toc_window_display": false
  },
  "varInspector": {
   "cols": {
    "lenName": 16,
    "lenType": 16,
    "lenVar": 40
   },
   "kernels_config": {
    "python": {
     "delete_cmd_postfix": "",
     "delete_cmd_prefix": "del ",
     "library": "var_list.py",
     "varRefreshCmd": "print(var_dic_list())"
    },
    "r": {
     "delete_cmd_postfix": ") ",
     "delete_cmd_prefix": "rm(",
     "library": "var_list.r",
     "varRefreshCmd": "cat(var_dic_list()) "
    }
   },
   "types_to_exclude": [
    "module",
    "function",
    "builtin_function_or_method",
    "instance",
    "_Feature"
   ],
   "window_display": false
  }
 },
 "nbformat": 4,
 "nbformat_minor": 2
}
