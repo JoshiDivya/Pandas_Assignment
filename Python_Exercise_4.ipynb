{
 "cells": [
  {
   "cell_type": "code",
   "execution_count": 1,
   "metadata": {},
   "outputs": [],
   "source": [
    "import pandas as pd\n",
    "from functools import reduce"
   ]
  },
  {
   "cell_type": "markdown",
   "metadata": {},
   "source": [
    "## Task 1 : apply a list of functions on a list of integers."
   ]
  },
  {
   "cell_type": "markdown",
   "metadata": {},
   "source": [
    "### here in this task created functions and created a list contains name of functions and a list of integer  values. by using map function, we call lambda function to call every function with the every element of list of integers"
   ]
  },
  {
   "cell_type": "code",
   "execution_count": 2,
   "metadata": {},
   "outputs": [
    {
     "name": "stdout",
     "output_type": "stream",
     "text": [
      "[2, 1]\n",
      "[4, 4]\n",
      "[6, 27]\n",
      "[8, 256]\n",
      "[10, 3125]\n"
     ]
    }
   ],
   "source": [
    "def mult(x):\n",
    "    return x*2\n",
    "def squar(x):\n",
    "    return x**x\n",
    "funcs=[mult,squar]\n",
    "list1=[1,2,3,4,5]\n",
    "for i in list1:\n",
    "    print(list(map(lambda x: x(i),funcs)))"
   ]
  },
  {
   "cell_type": "markdown",
   "metadata": {},
   "source": [
    "## Task 2 the greatest common divisor of a list of numbers using Reduce"
   ]
  },
  {
   "cell_type": "markdown",
   "metadata": {},
   "source": [
    "### The greatest common divisor of the given list of integers value is calucated by reduce function of functools directory.  the first argument of reduce function is the function and the second argument is the list of data"
   ]
  },
  {
   "cell_type": "code",
   "execution_count": 3,
   "metadata": {},
   "outputs": [
    {
     "data": {
      "text/plain": [
       "7"
      ]
     },
     "execution_count": 3,
     "metadata": {},
     "output_type": "execute_result"
    }
   ],
   "source": [
    "from math import gcd\n",
    "from functools import reduce\n",
    "def find_gcd(list):\n",
    "    x = reduce(gcd, list)\n",
    "    return x\n",
    "find_gcd([28,14,21,35])"
   ]
  },
  {
   "cell_type": "markdown",
   "metadata": {},
   "source": [
    "## Write a function groupby_demonstrator that takes as a list of tuples as an input (arg data) as well as boolean argument (verify_sorted). If verify_sorted is true,the list is sorted by the first key (0-th tuple element), otherwise it is not sorted.\n",
    "### Add a decorator ‘ensure_sourted_grouper’ that overrides the grouping, by making sure that the list is sorted when an argument ‘verify_sorted’ = True is passed. Otherwise, “You didn’t enforce the order” is printed to the console.\n"
   ]
  },
  {
   "cell_type": "code",
   "execution_count": 78,
   "metadata": {},
   "outputs": [
    {
     "name": "stdout",
     "output_type": "stream",
     "text": [
      "animal : [('animal', 'Lion'), ('animal', 'Dog')]\n",
      " \n",
      "Bird : [('Bird', 'Peocock'), ('Bird', 'Eagle')]\n",
      " \n",
      "Plant : [('Plant', 'Cactus')]\n",
      " \n"
     ]
    }
   ],
   "source": [
    "from itertools import groupby\n",
    "\n",
    "def ensure_sourted_grouper(func):    #decorator function\n",
    "    def inner(li,**kwargs):         # passing data list and kwargs with key pair value\n",
    "        if kwargs.get('verify_sorted')==True:    # checking kwargs having key verify_sorted is True or not\n",
    "            sort_data = sorted(li, key=lambda x: x[0]) # sort the list with 1st element of the tuple of list \n",
    "            func(li)                                    # calling function (groupby_demonstrator) with sorted list\n",
    "        else:\n",
    "            print(\"You didn’t enforce the order\")    #else statement\n",
    "    return inner\n",
    "        \n",
    "    \n",
    "    \n",
    "@ensure_sourted_grouper\n",
    "def groupby_demonstrator(lst):\n",
    "        grouped_data= groupby(lst,key=lambda x: x[0])   # gropuby function with 2 args,1st is sorted list and 2nd is  \n",
    "        for k, g in grouped_data:                         # 1st element of tuple on which based groupby is done \n",
    "            print(\"{} : {}\".format(k,list(g)))           # every key have the value of a list of data having same key\n",
    "                                                          #as their pair  \n",
    "            print(\" \")\n",
    "    \n",
    "li=[(\"animal\", \"Lion\"), (\"animal\", \"Dog\"), (\"Bird\", \"Peocock\"), (\"Bird\", \"Eagle\"),\n",
    "             (\"Plant\", \"Cactus\")]\n",
    "\n",
    "groupby_demonstrator(li,verify_sorted=True)"
   ]
  },
  {
   "cell_type": "markdown",
   "metadata": {},
   "source": [
    "## Functional Programming in Python"
   ]
  },
  {
   "cell_type": "markdown",
   "metadata": {},
   "source": [
    "### Itertools : for iteration of efficient looping \n",
    " * Repeat() : repeat 1st argument based on 2nd elements number times \n",
    " * cycle() :  cycle of elements of list of 1st argument basend on 2nd argument times\n",
    " * count() : count the number on based on 2nd argument as no. of steps"
   ]
  },
  {
   "cell_type": "markdown",
   "metadata": {},
   "source": [
    "### Functools : functions react on the result of other functions result\n",
    "    * Partial Object \n",
    "        ** Partial func\n",
    "        ** Partial Args\n",
    "        ** Partial Keywords\n",
    "    * Key Function\n",
    "        ** min()\n",
    "        ** sorted()\n",
    "        ** nlargest()"
   ]
  },
  {
   "cell_type": "markdown",
   "metadata": {},
   "source": [
    "###  Operator : exports the functions of the operator functions in python\n",
    "    * add()\n",
    "    * is_not()\n",
    "    * is_()\n",
    "    * index()\n",
    "    * abs()"
   ]
  }
 ],
 "metadata": {
  "kernelspec": {
   "display_name": "Python 3",
   "language": "python",
   "name": "python3"
  },
  "language_info": {
   "codemirror_mode": {
    "name": "ipython",
    "version": 3
   },
   "file_extension": ".py",
   "mimetype": "text/x-python",
   "name": "python",
   "nbconvert_exporter": "python",
   "pygments_lexer": "ipython3",
   "version": "3.7.2"
  },
  "toc": {
   "base_numbering": 1,
   "nav_menu": {},
   "number_sections": true,
   "sideBar": true,
   "skip_h1_title": false,
   "title_cell": "Table of Contents",
   "title_sidebar": "Contents",
   "toc_cell": false,
   "toc_position": {},
   "toc_section_display": true,
   "toc_window_display": false
  },
  "varInspector": {
   "cols": {
    "lenName": 16,
    "lenType": 16,
    "lenVar": 40
   },
   "kernels_config": {
    "python": {
     "delete_cmd_postfix": "",
     "delete_cmd_prefix": "del ",
     "library": "var_list.py",
     "varRefreshCmd": "print(var_dic_list())"
    },
    "r": {
     "delete_cmd_postfix": ") ",
     "delete_cmd_prefix": "rm(",
     "library": "var_list.r",
     "varRefreshCmd": "cat(var_dic_list()) "
    }
   },
   "types_to_exclude": [
    "module",
    "function",
    "builtin_function_or_method",
    "instance",
    "_Feature"
   ],
   "window_display": false
  }
 },
 "nbformat": 4,
 "nbformat_minor": 2
}
